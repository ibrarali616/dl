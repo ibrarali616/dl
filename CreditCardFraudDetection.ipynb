{
  "nbformat": 4,
  "nbformat_minor": 0,
  "metadata": {
    "colab": {
      "name": "CreditCardFraudDetection.ipynb",
      "provenance": []
    },
    "kernelspec": {
      "name": "python3",
      "display_name": "Python 3"
    },
    "language_info": {
      "name": "python"
    }
  },
  "cells": [
    {
      "cell_type": "code",
      "metadata": {
        "id": "SAaiJECAlSvH"
      },
      "source": [
        "import tensorflow as tf"
      ],
      "execution_count": 1,
      "outputs": []
    },
    {
      "cell_type": "code",
      "metadata": {
        "id": "xn4JmT3Dl9mT"
      },
      "source": [
        "import numpy as np"
      ],
      "execution_count": 2,
      "outputs": []
    },
    {
      "cell_type": "code",
      "metadata": {
        "id": "S4rBi80-mBB8"
      },
      "source": [
        "import pandas as pd"
      ],
      "execution_count": 3,
      "outputs": []
    },
    {
      "cell_type": "code",
      "metadata": {
        "colab": {
          "base_uri": "https://localhost:8080/"
        },
        "id": "hhRe95MhmGEF",
        "outputId": "d0872e28-eead-4968-8335-9612d7629144"
      },
      "source": [
        "cd/content/drive/MyDrive/AIAssignment"
      ],
      "execution_count": 6,
      "outputs": [
        {
          "output_type": "stream",
          "text": [
            "/content/drive/MyDrive/AIAssignment\n"
          ],
          "name": "stdout"
        }
      ]
    },
    {
      "cell_type": "code",
      "metadata": {
        "colab": {
          "base_uri": "https://localhost:8080/"
        },
        "id": "u-tkeOoQmSX5",
        "outputId": "5926de1c-d040-483c-a31e-9fd725b596ac"
      },
      "source": [
        "ls"
      ],
      "execution_count": 7,
      "outputs": [
        {
          "output_type": "stream",
          "text": [
            " CarPrice_Assignment.csv\n",
            "'Car Price Prediction assignment.ipynb'\n",
            "'Concrete Strength Assignment.ipynb'\n",
            "'Credit Card Fraud Detection assignment.ipynb'\n",
            " Flowers_Recognition.ipynb\n"
          ],
          "name": "stdout"
        }
      ]
    },
    {
      "cell_type": "code",
      "metadata": {
        "id": "6Db92M3EmZ9I"
      },
      "source": [
        "df = pd.read_csv('creditcard.csv')"
      ],
      "execution_count": 11,
      "outputs": []
    },
    {
      "cell_type": "code",
      "metadata": {
        "colab": {
          "base_uri": "https://localhost:8080/"
        },
        "id": "jgWSyEjRs2PT",
        "outputId": "d39bbd6c-03d4-43c5-c0f8-2baf1d7da3e8"
      },
      "source": [
        "!pip install -U scikit-learn"
      ],
      "execution_count": 13,
      "outputs": [
        {
          "output_type": "stream",
          "text": [
            "Requirement already up-to-date: scikit-learn in /usr/local/lib/python3.7/dist-packages (0.24.1)\n",
            "Requirement already satisfied, skipping upgrade: scipy>=0.19.1 in /usr/local/lib/python3.7/dist-packages (from scikit-learn) (1.4.1)\n",
            "Requirement already satisfied, skipping upgrade: threadpoolctl>=2.0.0 in /usr/local/lib/python3.7/dist-packages (from scikit-learn) (2.1.0)\n",
            "Requirement already satisfied, skipping upgrade: numpy>=1.13.3 in /usr/local/lib/python3.7/dist-packages (from scikit-learn) (1.19.5)\n",
            "Requirement already satisfied, skipping upgrade: joblib>=0.11 in /usr/local/lib/python3.7/dist-packages (from scikit-learn) (1.0.1)\n"
          ],
          "name": "stdout"
        }
      ]
    },
    {
      "cell_type": "code",
      "metadata": {
        "colab": {
          "base_uri": "https://localhost:8080/",
          "height": 379
        },
        "id": "gW9al7Cstc4o",
        "outputId": "4b13d628-7461-4105-9c5e-d9669975afff"
      },
      "source": [
        "df.head(10)"
      ],
      "execution_count": 15,
      "outputs": [
        {
          "output_type": "execute_result",
          "data": {
            "text/html": [
              "<div>\n",
              "<style scoped>\n",
              "    .dataframe tbody tr th:only-of-type {\n",
              "        vertical-align: middle;\n",
              "    }\n",
              "\n",
              "    .dataframe tbody tr th {\n",
              "        vertical-align: top;\n",
              "    }\n",
              "\n",
              "    .dataframe thead th {\n",
              "        text-align: right;\n",
              "    }\n",
              "</style>\n",
              "<table border=\"1\" class=\"dataframe\">\n",
              "  <thead>\n",
              "    <tr style=\"text-align: right;\">\n",
              "      <th></th>\n",
              "      <th>Time</th>\n",
              "      <th>V1</th>\n",
              "      <th>V2</th>\n",
              "      <th>V3</th>\n",
              "      <th>V4</th>\n",
              "      <th>V5</th>\n",
              "      <th>V6</th>\n",
              "      <th>V7</th>\n",
              "      <th>V8</th>\n",
              "      <th>V9</th>\n",
              "      <th>V10</th>\n",
              "      <th>V11</th>\n",
              "      <th>V12</th>\n",
              "      <th>V13</th>\n",
              "      <th>V14</th>\n",
              "      <th>V15</th>\n",
              "      <th>V16</th>\n",
              "      <th>V17</th>\n",
              "      <th>V18</th>\n",
              "      <th>V19</th>\n",
              "      <th>V20</th>\n",
              "      <th>V21</th>\n",
              "      <th>V22</th>\n",
              "      <th>V23</th>\n",
              "      <th>V24</th>\n",
              "      <th>V25</th>\n",
              "      <th>V26</th>\n",
              "      <th>V27</th>\n",
              "      <th>V28</th>\n",
              "      <th>Amount</th>\n",
              "      <th>Class</th>\n",
              "    </tr>\n",
              "  </thead>\n",
              "  <tbody>\n",
              "    <tr>\n",
              "      <th>0</th>\n",
              "      <td>0.0</td>\n",
              "      <td>-1.359807</td>\n",
              "      <td>-0.072781</td>\n",
              "      <td>2.536347</td>\n",
              "      <td>1.378155</td>\n",
              "      <td>-0.338321</td>\n",
              "      <td>0.462388</td>\n",
              "      <td>0.239599</td>\n",
              "      <td>0.098698</td>\n",
              "      <td>0.363787</td>\n",
              "      <td>0.090794</td>\n",
              "      <td>-0.551600</td>\n",
              "      <td>-0.617801</td>\n",
              "      <td>-0.991390</td>\n",
              "      <td>-0.311169</td>\n",
              "      <td>1.468177</td>\n",
              "      <td>-0.470401</td>\n",
              "      <td>0.207971</td>\n",
              "      <td>0.025791</td>\n",
              "      <td>0.403993</td>\n",
              "      <td>0.251412</td>\n",
              "      <td>-0.018307</td>\n",
              "      <td>0.277838</td>\n",
              "      <td>-0.110474</td>\n",
              "      <td>0.066928</td>\n",
              "      <td>0.128539</td>\n",
              "      <td>-0.189115</td>\n",
              "      <td>0.133558</td>\n",
              "      <td>-0.021053</td>\n",
              "      <td>149.62</td>\n",
              "      <td>0</td>\n",
              "    </tr>\n",
              "    <tr>\n",
              "      <th>1</th>\n",
              "      <td>0.0</td>\n",
              "      <td>1.191857</td>\n",
              "      <td>0.266151</td>\n",
              "      <td>0.166480</td>\n",
              "      <td>0.448154</td>\n",
              "      <td>0.060018</td>\n",
              "      <td>-0.082361</td>\n",
              "      <td>-0.078803</td>\n",
              "      <td>0.085102</td>\n",
              "      <td>-0.255425</td>\n",
              "      <td>-0.166974</td>\n",
              "      <td>1.612727</td>\n",
              "      <td>1.065235</td>\n",
              "      <td>0.489095</td>\n",
              "      <td>-0.143772</td>\n",
              "      <td>0.635558</td>\n",
              "      <td>0.463917</td>\n",
              "      <td>-0.114805</td>\n",
              "      <td>-0.183361</td>\n",
              "      <td>-0.145783</td>\n",
              "      <td>-0.069083</td>\n",
              "      <td>-0.225775</td>\n",
              "      <td>-0.638672</td>\n",
              "      <td>0.101288</td>\n",
              "      <td>-0.339846</td>\n",
              "      <td>0.167170</td>\n",
              "      <td>0.125895</td>\n",
              "      <td>-0.008983</td>\n",
              "      <td>0.014724</td>\n",
              "      <td>2.69</td>\n",
              "      <td>0</td>\n",
              "    </tr>\n",
              "    <tr>\n",
              "      <th>2</th>\n",
              "      <td>1.0</td>\n",
              "      <td>-1.358354</td>\n",
              "      <td>-1.340163</td>\n",
              "      <td>1.773209</td>\n",
              "      <td>0.379780</td>\n",
              "      <td>-0.503198</td>\n",
              "      <td>1.800499</td>\n",
              "      <td>0.791461</td>\n",
              "      <td>0.247676</td>\n",
              "      <td>-1.514654</td>\n",
              "      <td>0.207643</td>\n",
              "      <td>0.624501</td>\n",
              "      <td>0.066084</td>\n",
              "      <td>0.717293</td>\n",
              "      <td>-0.165946</td>\n",
              "      <td>2.345865</td>\n",
              "      <td>-2.890083</td>\n",
              "      <td>1.109969</td>\n",
              "      <td>-0.121359</td>\n",
              "      <td>-2.261857</td>\n",
              "      <td>0.524980</td>\n",
              "      <td>0.247998</td>\n",
              "      <td>0.771679</td>\n",
              "      <td>0.909412</td>\n",
              "      <td>-0.689281</td>\n",
              "      <td>-0.327642</td>\n",
              "      <td>-0.139097</td>\n",
              "      <td>-0.055353</td>\n",
              "      <td>-0.059752</td>\n",
              "      <td>378.66</td>\n",
              "      <td>0</td>\n",
              "    </tr>\n",
              "    <tr>\n",
              "      <th>3</th>\n",
              "      <td>1.0</td>\n",
              "      <td>-0.966272</td>\n",
              "      <td>-0.185226</td>\n",
              "      <td>1.792993</td>\n",
              "      <td>-0.863291</td>\n",
              "      <td>-0.010309</td>\n",
              "      <td>1.247203</td>\n",
              "      <td>0.237609</td>\n",
              "      <td>0.377436</td>\n",
              "      <td>-1.387024</td>\n",
              "      <td>-0.054952</td>\n",
              "      <td>-0.226487</td>\n",
              "      <td>0.178228</td>\n",
              "      <td>0.507757</td>\n",
              "      <td>-0.287924</td>\n",
              "      <td>-0.631418</td>\n",
              "      <td>-1.059647</td>\n",
              "      <td>-0.684093</td>\n",
              "      <td>1.965775</td>\n",
              "      <td>-1.232622</td>\n",
              "      <td>-0.208038</td>\n",
              "      <td>-0.108300</td>\n",
              "      <td>0.005274</td>\n",
              "      <td>-0.190321</td>\n",
              "      <td>-1.175575</td>\n",
              "      <td>0.647376</td>\n",
              "      <td>-0.221929</td>\n",
              "      <td>0.062723</td>\n",
              "      <td>0.061458</td>\n",
              "      <td>123.50</td>\n",
              "      <td>0</td>\n",
              "    </tr>\n",
              "    <tr>\n",
              "      <th>4</th>\n",
              "      <td>2.0</td>\n",
              "      <td>-1.158233</td>\n",
              "      <td>0.877737</td>\n",
              "      <td>1.548718</td>\n",
              "      <td>0.403034</td>\n",
              "      <td>-0.407193</td>\n",
              "      <td>0.095921</td>\n",
              "      <td>0.592941</td>\n",
              "      <td>-0.270533</td>\n",
              "      <td>0.817739</td>\n",
              "      <td>0.753074</td>\n",
              "      <td>-0.822843</td>\n",
              "      <td>0.538196</td>\n",
              "      <td>1.345852</td>\n",
              "      <td>-1.119670</td>\n",
              "      <td>0.175121</td>\n",
              "      <td>-0.451449</td>\n",
              "      <td>-0.237033</td>\n",
              "      <td>-0.038195</td>\n",
              "      <td>0.803487</td>\n",
              "      <td>0.408542</td>\n",
              "      <td>-0.009431</td>\n",
              "      <td>0.798278</td>\n",
              "      <td>-0.137458</td>\n",
              "      <td>0.141267</td>\n",
              "      <td>-0.206010</td>\n",
              "      <td>0.502292</td>\n",
              "      <td>0.219422</td>\n",
              "      <td>0.215153</td>\n",
              "      <td>69.99</td>\n",
              "      <td>0</td>\n",
              "    </tr>\n",
              "    <tr>\n",
              "      <th>5</th>\n",
              "      <td>2.0</td>\n",
              "      <td>-0.425966</td>\n",
              "      <td>0.960523</td>\n",
              "      <td>1.141109</td>\n",
              "      <td>-0.168252</td>\n",
              "      <td>0.420987</td>\n",
              "      <td>-0.029728</td>\n",
              "      <td>0.476201</td>\n",
              "      <td>0.260314</td>\n",
              "      <td>-0.568671</td>\n",
              "      <td>-0.371407</td>\n",
              "      <td>1.341262</td>\n",
              "      <td>0.359894</td>\n",
              "      <td>-0.358091</td>\n",
              "      <td>-0.137134</td>\n",
              "      <td>0.517617</td>\n",
              "      <td>0.401726</td>\n",
              "      <td>-0.058133</td>\n",
              "      <td>0.068653</td>\n",
              "      <td>-0.033194</td>\n",
              "      <td>0.084968</td>\n",
              "      <td>-0.208254</td>\n",
              "      <td>-0.559825</td>\n",
              "      <td>-0.026398</td>\n",
              "      <td>-0.371427</td>\n",
              "      <td>-0.232794</td>\n",
              "      <td>0.105915</td>\n",
              "      <td>0.253844</td>\n",
              "      <td>0.081080</td>\n",
              "      <td>3.67</td>\n",
              "      <td>0</td>\n",
              "    </tr>\n",
              "    <tr>\n",
              "      <th>6</th>\n",
              "      <td>4.0</td>\n",
              "      <td>1.229658</td>\n",
              "      <td>0.141004</td>\n",
              "      <td>0.045371</td>\n",
              "      <td>1.202613</td>\n",
              "      <td>0.191881</td>\n",
              "      <td>0.272708</td>\n",
              "      <td>-0.005159</td>\n",
              "      <td>0.081213</td>\n",
              "      <td>0.464960</td>\n",
              "      <td>-0.099254</td>\n",
              "      <td>-1.416907</td>\n",
              "      <td>-0.153826</td>\n",
              "      <td>-0.751063</td>\n",
              "      <td>0.167372</td>\n",
              "      <td>0.050144</td>\n",
              "      <td>-0.443587</td>\n",
              "      <td>0.002821</td>\n",
              "      <td>-0.611987</td>\n",
              "      <td>-0.045575</td>\n",
              "      <td>-0.219633</td>\n",
              "      <td>-0.167716</td>\n",
              "      <td>-0.270710</td>\n",
              "      <td>-0.154104</td>\n",
              "      <td>-0.780055</td>\n",
              "      <td>0.750137</td>\n",
              "      <td>-0.257237</td>\n",
              "      <td>0.034507</td>\n",
              "      <td>0.005168</td>\n",
              "      <td>4.99</td>\n",
              "      <td>0</td>\n",
              "    </tr>\n",
              "    <tr>\n",
              "      <th>7</th>\n",
              "      <td>7.0</td>\n",
              "      <td>-0.644269</td>\n",
              "      <td>1.417964</td>\n",
              "      <td>1.074380</td>\n",
              "      <td>-0.492199</td>\n",
              "      <td>0.948934</td>\n",
              "      <td>0.428118</td>\n",
              "      <td>1.120631</td>\n",
              "      <td>-3.807864</td>\n",
              "      <td>0.615375</td>\n",
              "      <td>1.249376</td>\n",
              "      <td>-0.619468</td>\n",
              "      <td>0.291474</td>\n",
              "      <td>1.757964</td>\n",
              "      <td>-1.323865</td>\n",
              "      <td>0.686133</td>\n",
              "      <td>-0.076127</td>\n",
              "      <td>-1.222127</td>\n",
              "      <td>-0.358222</td>\n",
              "      <td>0.324505</td>\n",
              "      <td>-0.156742</td>\n",
              "      <td>1.943465</td>\n",
              "      <td>-1.015455</td>\n",
              "      <td>0.057504</td>\n",
              "      <td>-0.649709</td>\n",
              "      <td>-0.415267</td>\n",
              "      <td>-0.051634</td>\n",
              "      <td>-1.206921</td>\n",
              "      <td>-1.085339</td>\n",
              "      <td>40.80</td>\n",
              "      <td>0</td>\n",
              "    </tr>\n",
              "    <tr>\n",
              "      <th>8</th>\n",
              "      <td>7.0</td>\n",
              "      <td>-0.894286</td>\n",
              "      <td>0.286157</td>\n",
              "      <td>-0.113192</td>\n",
              "      <td>-0.271526</td>\n",
              "      <td>2.669599</td>\n",
              "      <td>3.721818</td>\n",
              "      <td>0.370145</td>\n",
              "      <td>0.851084</td>\n",
              "      <td>-0.392048</td>\n",
              "      <td>-0.410430</td>\n",
              "      <td>-0.705117</td>\n",
              "      <td>-0.110452</td>\n",
              "      <td>-0.286254</td>\n",
              "      <td>0.074355</td>\n",
              "      <td>-0.328783</td>\n",
              "      <td>-0.210077</td>\n",
              "      <td>-0.499768</td>\n",
              "      <td>0.118765</td>\n",
              "      <td>0.570328</td>\n",
              "      <td>0.052736</td>\n",
              "      <td>-0.073425</td>\n",
              "      <td>-0.268092</td>\n",
              "      <td>-0.204233</td>\n",
              "      <td>1.011592</td>\n",
              "      <td>0.373205</td>\n",
              "      <td>-0.384157</td>\n",
              "      <td>0.011747</td>\n",
              "      <td>0.142404</td>\n",
              "      <td>93.20</td>\n",
              "      <td>0</td>\n",
              "    </tr>\n",
              "    <tr>\n",
              "      <th>9</th>\n",
              "      <td>9.0</td>\n",
              "      <td>-0.338262</td>\n",
              "      <td>1.119593</td>\n",
              "      <td>1.044367</td>\n",
              "      <td>-0.222187</td>\n",
              "      <td>0.499361</td>\n",
              "      <td>-0.246761</td>\n",
              "      <td>0.651583</td>\n",
              "      <td>0.069539</td>\n",
              "      <td>-0.736727</td>\n",
              "      <td>-0.366846</td>\n",
              "      <td>1.017614</td>\n",
              "      <td>0.836390</td>\n",
              "      <td>1.006844</td>\n",
              "      <td>-0.443523</td>\n",
              "      <td>0.150219</td>\n",
              "      <td>0.739453</td>\n",
              "      <td>-0.540980</td>\n",
              "      <td>0.476677</td>\n",
              "      <td>0.451773</td>\n",
              "      <td>0.203711</td>\n",
              "      <td>-0.246914</td>\n",
              "      <td>-0.633753</td>\n",
              "      <td>-0.120794</td>\n",
              "      <td>-0.385050</td>\n",
              "      <td>-0.069733</td>\n",
              "      <td>0.094199</td>\n",
              "      <td>0.246219</td>\n",
              "      <td>0.083076</td>\n",
              "      <td>3.68</td>\n",
              "      <td>0</td>\n",
              "    </tr>\n",
              "  </tbody>\n",
              "</table>\n",
              "</div>"
            ],
            "text/plain": [
              "   Time        V1        V2        V3  ...       V27       V28  Amount  Class\n",
              "0   0.0 -1.359807 -0.072781  2.536347  ...  0.133558 -0.021053  149.62      0\n",
              "1   0.0  1.191857  0.266151  0.166480  ... -0.008983  0.014724    2.69      0\n",
              "2   1.0 -1.358354 -1.340163  1.773209  ... -0.055353 -0.059752  378.66      0\n",
              "3   1.0 -0.966272 -0.185226  1.792993  ...  0.062723  0.061458  123.50      0\n",
              "4   2.0 -1.158233  0.877737  1.548718  ...  0.219422  0.215153   69.99      0\n",
              "5   2.0 -0.425966  0.960523  1.141109  ...  0.253844  0.081080    3.67      0\n",
              "6   4.0  1.229658  0.141004  0.045371  ...  0.034507  0.005168    4.99      0\n",
              "7   7.0 -0.644269  1.417964  1.074380  ... -1.206921 -1.085339   40.80      0\n",
              "8   7.0 -0.894286  0.286157 -0.113192  ...  0.011747  0.142404   93.20      0\n",
              "9   9.0 -0.338262  1.119593  1.044367  ...  0.246219  0.083076    3.68      0\n",
              "\n",
              "[10 rows x 31 columns]"
            ]
          },
          "metadata": {
            "tags": []
          },
          "execution_count": 15
        }
      ]
    },
    {
      "cell_type": "code",
      "metadata": {
        "id": "uXsDshnJthtM"
      },
      "source": [
        "from sklearn.model_selection import train_test_split"
      ],
      "execution_count": 16,
      "outputs": []
    },
    {
      "cell_type": "code",
      "metadata": {
        "id": "Ig7kjUkVuSqJ"
      },
      "source": [
        "non_fraud=df[df[\"Class\"]==0]\n",
        "fraud = df[df[\"Class\"]==1]\n",
        "non_fraud=non_fraud.sample(3*fraud.shape[0])\n",
        "data = fraud.append(non_fraud, ignore_index=True)\n",
        "\n",
        "x_data= data.drop(columns=\"Class\", axis=0)\n",
        "label = data[\"Class\"]"
      ],
      "execution_count": 18,
      "outputs": []
    },
    {
      "cell_type": "code",
      "metadata": {
        "id": "fhdtrloNueLV"
      },
      "source": [
        "train_data, test_data, train_labels, test_labels=train_test_split(x_data, label, test_size=0.3, random_state=1, stratify = label)"
      ],
      "execution_count": 19,
      "outputs": []
    },
    {
      "cell_type": "code",
      "metadata": {
        "id": "r4ZZcO9Cujju"
      },
      "source": [
        "train_mean = train_data.mean(axis=0) # taking the mean of \n",
        "train_data -= train_mean\n",
        "train_std = train_data.std(axis=0)\n",
        "train_data /= train_std\n",
        "test_data -= train_mean\n",
        "test_data /= train_std"
      ],
      "execution_count": 20,
      "outputs": []
    },
    {
      "cell_type": "code",
      "metadata": {
        "id": "0Efd64p_upLy"
      },
      "source": [
        "from keras import models,layers\n",
        "from keras import regularizers\n",
        "\n",
        "model = models.Sequential()\n",
        "model.add(layers.Dense(20, activation='relu',kernel_regularizer=regularizers.l2(0.001), input_shape=(train_data.shape[1],)))\n",
        "model.add(layers.Dropout(0.5))\n",
        "model.add(layers.Dense(10, activation='relu',kernel_regularizer=regularizers.l2(0.001)))\n",
        "model.add(layers.Dropout(0.5))\n",
        "model.add(layers.Dense(8, activation='relu',kernel_regularizer=regularizers.l2(0.001)))\n",
        "model.add(layers.Dropout(0.5))\n",
        "model.add(layers.Dense(6, activation='relu',kernel_regularizer=regularizers.l2(0.001)))\n",
        "model.add(layers.Dropout(0.5))\n",
        "model.add(layers.Dense(1, activation='sigmoid'))"
      ],
      "execution_count": 21,
      "outputs": []
    },
    {
      "cell_type": "code",
      "metadata": {
        "id": "FKjbdTyzuwrF"
      },
      "source": [
        "model.compile(loss= 'binary_crossentropy', optimizer= 'rmsprop', metrics=['accuracy'])"
      ],
      "execution_count": 22,
      "outputs": []
    },
    {
      "cell_type": "code",
      "metadata": {
        "colab": {
          "base_uri": "https://localhost:8080/"
        },
        "id": "jLg1VDlLuyzb",
        "outputId": "2d3c6fce-b06e-4225-83fb-d454e6586bbf"
      },
      "source": [
        "model.fit(train_data, train_labels, epochs=100,validation_split = 0.3)"
      ],
      "execution_count": 23,
      "outputs": [
        {
          "output_type": "stream",
          "text": [
            "Epoch 1/100\n",
            "31/31 [==============================] - 1s 12ms/step - loss: 0.9096 - accuracy: 0.7045 - val_loss: 0.6699 - val_accuracy: 0.7391\n",
            "Epoch 2/100\n",
            "31/31 [==============================] - 0s 3ms/step - loss: 0.8730 - accuracy: 0.7205 - val_loss: 0.6170 - val_accuracy: 0.7391\n",
            "Epoch 3/100\n",
            "31/31 [==============================] - 0s 3ms/step - loss: 0.6966 - accuracy: 0.7102 - val_loss: 0.5875 - val_accuracy: 0.7391\n",
            "Epoch 4/100\n",
            "31/31 [==============================] - 0s 3ms/step - loss: 0.7479 - accuracy: 0.6916 - val_loss: 0.5652 - val_accuracy: 0.7391\n",
            "Epoch 5/100\n",
            "31/31 [==============================] - 0s 3ms/step - loss: 0.6471 - accuracy: 0.7367 - val_loss: 0.5403 - val_accuracy: 0.7391\n",
            "Epoch 6/100\n",
            "31/31 [==============================] - 0s 3ms/step - loss: 0.6659 - accuracy: 0.7452 - val_loss: 0.5283 - val_accuracy: 0.7391\n",
            "Epoch 7/100\n",
            "31/31 [==============================] - 0s 3ms/step - loss: 0.6273 - accuracy: 0.7289 - val_loss: 0.5014 - val_accuracy: 0.7391\n",
            "Epoch 8/100\n",
            "31/31 [==============================] - 0s 3ms/step - loss: 0.6004 - accuracy: 0.7338 - val_loss: 0.4848 - val_accuracy: 0.7391\n",
            "Epoch 9/100\n",
            "31/31 [==============================] - 0s 3ms/step - loss: 0.5861 - accuracy: 0.7719 - val_loss: 0.4582 - val_accuracy: 0.7391\n",
            "Epoch 10/100\n",
            "31/31 [==============================] - 0s 3ms/step - loss: 0.5893 - accuracy: 0.7461 - val_loss: 0.4447 - val_accuracy: 0.7391\n",
            "Epoch 11/100\n",
            "31/31 [==============================] - 0s 3ms/step - loss: 0.5560 - accuracy: 0.7420 - val_loss: 0.4287 - val_accuracy: 0.7391\n",
            "Epoch 12/100\n",
            "31/31 [==============================] - 0s 3ms/step - loss: 0.5289 - accuracy: 0.7357 - val_loss: 0.4176 - val_accuracy: 0.7391\n",
            "Epoch 13/100\n",
            "31/31 [==============================] - 0s 3ms/step - loss: 0.5859 - accuracy: 0.7289 - val_loss: 0.4104 - val_accuracy: 0.7391\n",
            "Epoch 14/100\n",
            "31/31 [==============================] - 0s 3ms/step - loss: 0.5458 - accuracy: 0.7461 - val_loss: 0.4036 - val_accuracy: 0.7391\n",
            "Epoch 15/100\n",
            "31/31 [==============================] - 0s 3ms/step - loss: 0.4837 - accuracy: 0.7442 - val_loss: 0.3936 - val_accuracy: 0.7391\n",
            "Epoch 16/100\n",
            "31/31 [==============================] - 0s 3ms/step - loss: 0.5410 - accuracy: 0.7420 - val_loss: 0.3874 - val_accuracy: 0.7391\n",
            "Epoch 17/100\n",
            "31/31 [==============================] - 0s 3ms/step - loss: 0.5729 - accuracy: 0.7290 - val_loss: 0.3827 - val_accuracy: 0.7391\n",
            "Epoch 18/100\n",
            "31/31 [==============================] - 0s 3ms/step - loss: 0.5099 - accuracy: 0.7516 - val_loss: 0.3784 - val_accuracy: 0.7391\n",
            "Epoch 19/100\n",
            "31/31 [==============================] - 0s 3ms/step - loss: 0.5133 - accuracy: 0.7726 - val_loss: 0.3740 - val_accuracy: 0.7391\n",
            "Epoch 20/100\n",
            "31/31 [==============================] - 0s 3ms/step - loss: 0.4986 - accuracy: 0.7629 - val_loss: 0.3710 - val_accuracy: 0.7391\n",
            "Epoch 21/100\n",
            "31/31 [==============================] - 0s 3ms/step - loss: 0.4574 - accuracy: 0.7697 - val_loss: 0.3664 - val_accuracy: 0.7391\n",
            "Epoch 22/100\n",
            "31/31 [==============================] - 0s 3ms/step - loss: 0.4748 - accuracy: 0.7516 - val_loss: 0.3620 - val_accuracy: 0.7391\n",
            "Epoch 23/100\n",
            "31/31 [==============================] - 0s 3ms/step - loss: 0.4315 - accuracy: 0.7641 - val_loss: 0.3567 - val_accuracy: 0.7391\n",
            "Epoch 24/100\n",
            "31/31 [==============================] - 0s 3ms/step - loss: 0.5164 - accuracy: 0.7451 - val_loss: 0.3546 - val_accuracy: 0.7391\n",
            "Epoch 25/100\n",
            "31/31 [==============================] - 0s 3ms/step - loss: 0.4301 - accuracy: 0.7822 - val_loss: 0.3537 - val_accuracy: 0.7391\n",
            "Epoch 26/100\n",
            "31/31 [==============================] - 0s 3ms/step - loss: 0.4442 - accuracy: 0.7593 - val_loss: 0.3523 - val_accuracy: 0.7391\n",
            "Epoch 27/100\n",
            "31/31 [==============================] - 0s 3ms/step - loss: 0.4102 - accuracy: 0.7648 - val_loss: 0.3504 - val_accuracy: 0.7391\n",
            "Epoch 28/100\n",
            "31/31 [==============================] - 0s 3ms/step - loss: 0.4352 - accuracy: 0.7281 - val_loss: 0.3466 - val_accuracy: 0.7391\n",
            "Epoch 29/100\n",
            "31/31 [==============================] - 0s 4ms/step - loss: 0.4174 - accuracy: 0.7458 - val_loss: 0.3485 - val_accuracy: 0.7391\n",
            "Epoch 30/100\n",
            "31/31 [==============================] - 0s 3ms/step - loss: 0.4705 - accuracy: 0.7588 - val_loss: 0.3442 - val_accuracy: 0.7391\n",
            "Epoch 31/100\n",
            "31/31 [==============================] - 0s 3ms/step - loss: 0.3976 - accuracy: 0.7707 - val_loss: 0.3419 - val_accuracy: 0.7391\n",
            "Epoch 32/100\n",
            "31/31 [==============================] - 0s 4ms/step - loss: 0.4055 - accuracy: 0.7274 - val_loss: 0.3400 - val_accuracy: 0.7391\n",
            "Epoch 33/100\n",
            "31/31 [==============================] - 0s 3ms/step - loss: 0.4042 - accuracy: 0.7590 - val_loss: 0.3426 - val_accuracy: 0.7391\n",
            "Epoch 34/100\n",
            "31/31 [==============================] - 0s 3ms/step - loss: 0.4286 - accuracy: 0.7469 - val_loss: 0.3425 - val_accuracy: 0.7391\n",
            "Epoch 35/100\n",
            "31/31 [==============================] - 0s 3ms/step - loss: 0.4618 - accuracy: 0.7583 - val_loss: 0.3391 - val_accuracy: 0.7391\n",
            "Epoch 36/100\n",
            "31/31 [==============================] - 0s 3ms/step - loss: 0.4278 - accuracy: 0.7425 - val_loss: 0.3494 - val_accuracy: 0.7391\n",
            "Epoch 37/100\n",
            "31/31 [==============================] - 0s 3ms/step - loss: 0.4022 - accuracy: 0.7660 - val_loss: 0.3428 - val_accuracy: 0.7391\n",
            "Epoch 38/100\n",
            "31/31 [==============================] - 0s 3ms/step - loss: 0.3954 - accuracy: 0.8076 - val_loss: 0.3425 - val_accuracy: 0.9444\n",
            "Epoch 39/100\n",
            "31/31 [==============================] - 0s 3ms/step - loss: 0.3997 - accuracy: 0.8887 - val_loss: 0.3347 - val_accuracy: 0.9565\n",
            "Epoch 40/100\n",
            "31/31 [==============================] - 0s 3ms/step - loss: 0.4083 - accuracy: 0.9033 - val_loss: 0.3306 - val_accuracy: 0.9565\n",
            "Epoch 41/100\n",
            "31/31 [==============================] - 0s 3ms/step - loss: 0.4108 - accuracy: 0.8897 - val_loss: 0.3398 - val_accuracy: 0.9565\n",
            "Epoch 42/100\n",
            "31/31 [==============================] - 0s 3ms/step - loss: 0.3889 - accuracy: 0.8994 - val_loss: 0.3398 - val_accuracy: 0.9565\n",
            "Epoch 43/100\n",
            "31/31 [==============================] - 0s 3ms/step - loss: 0.3865 - accuracy: 0.9001 - val_loss: 0.3296 - val_accuracy: 0.9565\n",
            "Epoch 44/100\n",
            "31/31 [==============================] - 0s 3ms/step - loss: 0.3686 - accuracy: 0.9048 - val_loss: 0.3256 - val_accuracy: 0.9565\n",
            "Epoch 45/100\n",
            "31/31 [==============================] - 0s 3ms/step - loss: 0.3973 - accuracy: 0.8983 - val_loss: 0.3217 - val_accuracy: 0.9589\n",
            "Epoch 46/100\n",
            "31/31 [==============================] - 0s 3ms/step - loss: 0.3940 - accuracy: 0.8797 - val_loss: 0.3210 - val_accuracy: 0.9589\n",
            "Epoch 47/100\n",
            "31/31 [==============================] - 0s 3ms/step - loss: 0.3939 - accuracy: 0.9049 - val_loss: 0.3266 - val_accuracy: 0.9589\n",
            "Epoch 48/100\n",
            "31/31 [==============================] - 0s 3ms/step - loss: 0.3717 - accuracy: 0.9072 - val_loss: 0.3208 - val_accuracy: 0.9589\n",
            "Epoch 49/100\n",
            "31/31 [==============================] - 0s 3ms/step - loss: 0.3344 - accuracy: 0.9225 - val_loss: 0.3180 - val_accuracy: 0.9614\n",
            "Epoch 50/100\n",
            "31/31 [==============================] - 0s 3ms/step - loss: 0.3391 - accuracy: 0.9212 - val_loss: 0.3178 - val_accuracy: 0.9614\n",
            "Epoch 51/100\n",
            "31/31 [==============================] - 0s 3ms/step - loss: 0.3456 - accuracy: 0.9111 - val_loss: 0.3206 - val_accuracy: 0.9614\n",
            "Epoch 52/100\n",
            "31/31 [==============================] - 0s 3ms/step - loss: 0.3179 - accuracy: 0.9145 - val_loss: 0.3279 - val_accuracy: 0.9614\n",
            "Epoch 53/100\n",
            "31/31 [==============================] - 0s 3ms/step - loss: 0.3759 - accuracy: 0.9216 - val_loss: 0.3307 - val_accuracy: 0.9614\n",
            "Epoch 54/100\n",
            "31/31 [==============================] - 0s 3ms/step - loss: 0.3739 - accuracy: 0.9053 - val_loss: 0.3379 - val_accuracy: 0.9614\n",
            "Epoch 55/100\n",
            "31/31 [==============================] - 0s 3ms/step - loss: 0.3453 - accuracy: 0.9469 - val_loss: 0.3351 - val_accuracy: 0.9614\n",
            "Epoch 56/100\n",
            "31/31 [==============================] - 0s 3ms/step - loss: 0.3372 - accuracy: 0.9418 - val_loss: 0.3305 - val_accuracy: 0.9614\n",
            "Epoch 57/100\n",
            "31/31 [==============================] - 0s 3ms/step - loss: 0.3679 - accuracy: 0.9203 - val_loss: 0.3360 - val_accuracy: 0.9614\n",
            "Epoch 58/100\n",
            "31/31 [==============================] - 0s 3ms/step - loss: 0.3240 - accuracy: 0.9206 - val_loss: 0.3366 - val_accuracy: 0.9614\n",
            "Epoch 59/100\n",
            "31/31 [==============================] - 0s 3ms/step - loss: 0.3208 - accuracy: 0.9290 - val_loss: 0.3251 - val_accuracy: 0.9638\n",
            "Epoch 60/100\n",
            "31/31 [==============================] - 0s 3ms/step - loss: 0.3868 - accuracy: 0.9231 - val_loss: 0.3198 - val_accuracy: 0.9638\n",
            "Epoch 61/100\n",
            "31/31 [==============================] - 0s 3ms/step - loss: 0.4114 - accuracy: 0.9266 - val_loss: 0.3112 - val_accuracy: 0.9638\n",
            "Epoch 62/100\n",
            "31/31 [==============================] - 0s 3ms/step - loss: 0.3310 - accuracy: 0.9399 - val_loss: 0.3224 - val_accuracy: 0.9638\n",
            "Epoch 63/100\n",
            "31/31 [==============================] - 0s 3ms/step - loss: 0.3965 - accuracy: 0.9299 - val_loss: 0.3200 - val_accuracy: 0.9638\n",
            "Epoch 64/100\n",
            "31/31 [==============================] - 0s 3ms/step - loss: 0.3141 - accuracy: 0.9183 - val_loss: 0.3059 - val_accuracy: 0.9614\n",
            "Epoch 65/100\n",
            "31/31 [==============================] - 0s 3ms/step - loss: 0.3264 - accuracy: 0.9394 - val_loss: 0.2976 - val_accuracy: 0.9614\n",
            "Epoch 66/100\n",
            "31/31 [==============================] - 0s 3ms/step - loss: 0.2706 - accuracy: 0.9496 - val_loss: 0.3039 - val_accuracy: 0.9638\n",
            "Epoch 67/100\n",
            "31/31 [==============================] - 0s 3ms/step - loss: 0.3400 - accuracy: 0.9232 - val_loss: 0.2992 - val_accuracy: 0.9662\n",
            "Epoch 68/100\n",
            "31/31 [==============================] - 0s 3ms/step - loss: 0.3612 - accuracy: 0.9311 - val_loss: 0.2992 - val_accuracy: 0.9686\n",
            "Epoch 69/100\n",
            "31/31 [==============================] - 0s 3ms/step - loss: 0.3508 - accuracy: 0.9289 - val_loss: 0.2958 - val_accuracy: 0.9662\n",
            "Epoch 70/100\n",
            "31/31 [==============================] - 0s 3ms/step - loss: 0.3347 - accuracy: 0.9192 - val_loss: 0.2997 - val_accuracy: 0.9686\n",
            "Epoch 71/100\n",
            "31/31 [==============================] - 0s 3ms/step - loss: 0.3696 - accuracy: 0.9256 - val_loss: 0.2908 - val_accuracy: 0.9638\n",
            "Epoch 72/100\n",
            "31/31 [==============================] - 0s 3ms/step - loss: 0.2992 - accuracy: 0.9207 - val_loss: 0.3017 - val_accuracy: 0.9662\n",
            "Epoch 73/100\n",
            "31/31 [==============================] - 0s 3ms/step - loss: 0.2970 - accuracy: 0.9348 - val_loss: 0.3100 - val_accuracy: 0.9662\n",
            "Epoch 74/100\n",
            "31/31 [==============================] - 0s 3ms/step - loss: 0.3169 - accuracy: 0.9289 - val_loss: 0.3012 - val_accuracy: 0.9662\n",
            "Epoch 75/100\n",
            "31/31 [==============================] - 0s 3ms/step - loss: 0.2959 - accuracy: 0.9336 - val_loss: 0.3015 - val_accuracy: 0.9662\n",
            "Epoch 76/100\n",
            "31/31 [==============================] - 0s 3ms/step - loss: 0.2897 - accuracy: 0.9335 - val_loss: 0.2983 - val_accuracy: 0.9662\n",
            "Epoch 77/100\n",
            "31/31 [==============================] - 0s 3ms/step - loss: 0.3016 - accuracy: 0.9177 - val_loss: 0.2979 - val_accuracy: 0.9662\n",
            "Epoch 78/100\n",
            "31/31 [==============================] - 0s 3ms/step - loss: 0.2766 - accuracy: 0.9234 - val_loss: 0.3016 - val_accuracy: 0.9662\n",
            "Epoch 79/100\n",
            "31/31 [==============================] - 0s 3ms/step - loss: 0.2371 - accuracy: 0.9485 - val_loss: 0.3038 - val_accuracy: 0.9662\n",
            "Epoch 80/100\n",
            "31/31 [==============================] - 0s 3ms/step - loss: 0.2895 - accuracy: 0.9292 - val_loss: 0.3033 - val_accuracy: 0.9662\n",
            "Epoch 81/100\n",
            "31/31 [==============================] - 0s 3ms/step - loss: 0.2764 - accuracy: 0.9206 - val_loss: 0.3182 - val_accuracy: 0.9662\n",
            "Epoch 82/100\n",
            "31/31 [==============================] - 0s 3ms/step - loss: 0.3165 - accuracy: 0.9494 - val_loss: 0.3138 - val_accuracy: 0.9662\n",
            "Epoch 83/100\n",
            "31/31 [==============================] - 0s 3ms/step - loss: 0.2793 - accuracy: 0.9349 - val_loss: 0.3072 - val_accuracy: 0.9638\n",
            "Epoch 84/100\n",
            "31/31 [==============================] - 0s 3ms/step - loss: 0.3088 - accuracy: 0.9335 - val_loss: 0.2991 - val_accuracy: 0.9662\n",
            "Epoch 85/100\n",
            "31/31 [==============================] - 0s 3ms/step - loss: 0.3271 - accuracy: 0.9180 - val_loss: 0.2916 - val_accuracy: 0.9662\n",
            "Epoch 86/100\n",
            "31/31 [==============================] - 0s 3ms/step - loss: 0.2685 - accuracy: 0.9238 - val_loss: 0.3036 - val_accuracy: 0.9638\n",
            "Epoch 87/100\n",
            "31/31 [==============================] - 0s 3ms/step - loss: 0.2859 - accuracy: 0.9369 - val_loss: 0.3115 - val_accuracy: 0.9638\n",
            "Epoch 88/100\n",
            "31/31 [==============================] - 0s 3ms/step - loss: 0.3208 - accuracy: 0.9106 - val_loss: 0.3086 - val_accuracy: 0.9638\n",
            "Epoch 89/100\n",
            "31/31 [==============================] - 0s 3ms/step - loss: 0.2889 - accuracy: 0.9283 - val_loss: 0.3009 - val_accuracy: 0.9638\n",
            "Epoch 90/100\n",
            "31/31 [==============================] - 0s 3ms/step - loss: 0.2822 - accuracy: 0.9280 - val_loss: 0.2906 - val_accuracy: 0.9662\n",
            "Epoch 91/100\n",
            "31/31 [==============================] - 0s 3ms/step - loss: 0.2883 - accuracy: 0.9239 - val_loss: 0.3000 - val_accuracy: 0.9638\n",
            "Epoch 92/100\n",
            "31/31 [==============================] - 0s 3ms/step - loss: 0.2317 - accuracy: 0.9413 - val_loss: 0.3149 - val_accuracy: 0.9662\n",
            "Epoch 93/100\n",
            "31/31 [==============================] - 0s 3ms/step - loss: 0.3043 - accuracy: 0.9289 - val_loss: 0.3185 - val_accuracy: 0.9686\n",
            "Epoch 94/100\n",
            "31/31 [==============================] - 0s 3ms/step - loss: 0.3670 - accuracy: 0.9341 - val_loss: 0.3066 - val_accuracy: 0.9662\n",
            "Epoch 95/100\n",
            "31/31 [==============================] - 0s 4ms/step - loss: 0.2922 - accuracy: 0.9418 - val_loss: 0.3000 - val_accuracy: 0.9662\n",
            "Epoch 96/100\n",
            "31/31 [==============================] - 0s 3ms/step - loss: 0.3244 - accuracy: 0.9383 - val_loss: 0.2921 - val_accuracy: 0.9686\n",
            "Epoch 97/100\n",
            "31/31 [==============================] - 0s 3ms/step - loss: 0.2812 - accuracy: 0.9245 - val_loss: 0.2916 - val_accuracy: 0.9686\n",
            "Epoch 98/100\n",
            "31/31 [==============================] - 0s 3ms/step - loss: 0.2352 - accuracy: 0.9473 - val_loss: 0.2986 - val_accuracy: 0.9686\n",
            "Epoch 99/100\n",
            "31/31 [==============================] - 0s 3ms/step - loss: 0.2759 - accuracy: 0.9336 - val_loss: 0.2980 - val_accuracy: 0.9686\n",
            "Epoch 100/100\n",
            "31/31 [==============================] - 0s 3ms/step - loss: 0.2630 - accuracy: 0.9328 - val_loss: 0.3068 - val_accuracy: 0.9686\n"
          ],
          "name": "stdout"
        },
        {
          "output_type": "execute_result",
          "data": {
            "text/plain": [
              "<tensorflow.python.keras.callbacks.History at 0x7efdf00c4190>"
            ]
          },
          "metadata": {
            "tags": []
          },
          "execution_count": 23
        }
      ]
    },
    {
      "cell_type": "code",
      "metadata": {
        "colab": {
          "base_uri": "https://localhost:8080/"
        },
        "id": "U1ONMdQJvBbR",
        "outputId": "d7e6c46e-2f09-4607-aa5c-c56feb380a15"
      },
      "source": [
        "loss, accuracy = model.evaluate(test_data, test_labels)"
      ],
      "execution_count": 24,
      "outputs": [
        {
          "output_type": "stream",
          "text": [
            "19/19 [==============================] - 0s 1ms/step - loss: 0.3252 - accuracy: 0.9560\n"
          ],
          "name": "stdout"
        }
      ]
    },
    {
      "cell_type": "code",
      "metadata": {
        "colab": {
          "base_uri": "https://localhost:8080/"
        },
        "id": "2OZADaIovI6r",
        "outputId": "5086db64-2ecc-4241-df87-79de01bb848f"
      },
      "source": [
        "loss"
      ],
      "execution_count": 25,
      "outputs": [
        {
          "output_type": "execute_result",
          "data": {
            "text/plain": [
              "0.32516714930534363"
            ]
          },
          "metadata": {
            "tags": []
          },
          "execution_count": 25
        }
      ]
    },
    {
      "cell_type": "code",
      "metadata": {
        "colab": {
          "base_uri": "https://localhost:8080/"
        },
        "id": "QAQ57cTAvQ0p",
        "outputId": "c0596e3c-bbd7-401b-b875-3e7d69eff214"
      },
      "source": [
        "accuracy"
      ],
      "execution_count": 26,
      "outputs": [
        {
          "output_type": "execute_result",
          "data": {
            "text/plain": [
              "0.9560067653656006"
            ]
          },
          "metadata": {
            "tags": []
          },
          "execution_count": 26
        }
      ]
    },
    {
      "cell_type": "code",
      "metadata": {
        "id": "pxEblf8KvWKw"
      },
      "source": [
        "x = model.predict(test_data).astype(dtype=\"u8\")"
      ],
      "execution_count": 31,
      "outputs": []
    },
    {
      "cell_type": "code",
      "metadata": {
        "id": "2m-SZf3gvZ9k"
      },
      "source": [
        "a=x"
      ],
      "execution_count": 32,
      "outputs": []
    },
    {
      "cell_type": "code",
      "metadata": {
        "id": "GLwPVW2mvelw"
      },
      "source": [
        "b= np.array(test_labels)"
      ],
      "execution_count": 33,
      "outputs": []
    },
    {
      "cell_type": "code",
      "metadata": {
        "id": "O4ZkntL1viCA"
      },
      "source": [
        "a= a.reshape(1,a.shape[0])"
      ],
      "execution_count": 34,
      "outputs": []
    },
    {
      "cell_type": "code",
      "metadata": {
        "colab": {
          "base_uri": "https://localhost:8080/"
        },
        "id": "EQmxA0B9vp3q",
        "outputId": "0d466f95-7df9-4329-eda2-45d21d92d803"
      },
      "source": [
        "np.size(a != b) - np.count_nonzero(a == b)"
      ],
      "execution_count": 35,
      "outputs": [
        {
          "output_type": "execute_result",
          "data": {
            "text/plain": [
              "148"
            ]
          },
          "metadata": {
            "tags": []
          },
          "execution_count": 35
        }
      ]
    },
    {
      "cell_type": "code",
      "metadata": {
        "id": "ulqV6ZeLvtae"
      },
      "source": [
        "con = tf.math.confusion_matrix(labels= test_labels, predictions=x )"
      ],
      "execution_count": 36,
      "outputs": []
    },
    {
      "cell_type": "code",
      "metadata": {
        "colab": {
          "base_uri": "https://localhost:8080/"
        },
        "id": "ZEmoKGRXvzHF",
        "outputId": "2904d8e5-bb8f-4595-caaf-95c7aefb9975"
      },
      "source": [
        "con"
      ],
      "execution_count": 37,
      "outputs": [
        {
          "output_type": "execute_result",
          "data": {
            "text/plain": [
              "<tf.Tensor: shape=(2, 2), dtype=int32, numpy=\n",
              "array([[443,   0],\n",
              "       [148,   0]], dtype=int32)>"
            ]
          },
          "metadata": {
            "tags": []
          },
          "execution_count": 37
        }
      ]
    }
  ]
}